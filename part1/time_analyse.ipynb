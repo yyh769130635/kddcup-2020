{
 "cells": [
  {
   "cell_type": "code",
   "execution_count": 1,
   "metadata": {},
   "outputs": [],
   "source": [
    "import pandas as pd\n",
    "import numpy as np\n",
    "\n",
    "import matplotlib.pyplot as plt\n",
    "import seaborn as sns"
   ]
  },
  {
   "cell_type": "code",
   "execution_count": 34,
   "metadata": {},
   "outputs": [
    {
     "name": "stdout",
     "output_type": "stream",
     "text": [
      "phase: 0\n",
      "263000\n",
      "phase: 1\n",
      "368885\n",
      "phase: 2\n",
      "477251\n",
      "phase: 3\n",
      "602047\n"
     ]
    }
   ],
   "source": [
    "now_phase = 3\n",
    "\n",
    "train_path = 'C:/study/KDDCUP/underexpose_train'  \n",
    "test_path = 'C:/study/KDDCUP/underexpose_test'  \n",
    "whole_click = pd.DataFrame()  \n",
    "whole_test_click = pd.DataFrame()  \n",
    "bin_num=300\n",
    "time_bin=np.linspace(0.98375, 0.98420, num=bin_num+1)\n",
    "#bin_res = np.zeros((5,bin_num), dtype = np.float) \n",
    "for c in range(now_phase + 1):  \n",
    "    print('phase:', c)  \n",
    "    click_train = pd.read_csv(train_path + '/underexpose_train_click-{}.csv'.format(c), header=None,  names=['user_id', 'item_id', 'time'])  \n",
    "    click_test = pd.read_csv(test_path + '/underexpose_test_click-{}.csv'.format(c,c), header=None,  names=['user_id', 'item_id', 'time'])  \n",
    "\n",
    "    all_click = click_train.append(click_test)  \n",
    "    whole_click = whole_click.append(all_click)  \n",
    "    whole_click=whole_click.drop_duplicates(keep='first',inplace=False)\n",
    "    print(len(whole_click))\n",
    "    \n",
    "\n",
    "import os,gc,re,warnings,sys\n",
    "warnings.filterwarnings(\"ignore\")\n",
    "\n",
    "path = 'C:/study/KDDCUP/'\n",
    "\n",
    "##### train\n",
    "train_user_df = pd.read_csv(path+'underexpose_train/underexpose_user_feat.csv', names=['user_id','user_age_level','user_gender','user_city_level'])\n",
    "train_item_df = pd.read_csv(path+'underexpose_train/underexpose_item_feat.csv')\n",
    "train_click_0_df = pd.read_csv(path+'underexpose_train/underexpose_train_click-0.csv',names=['user_id','item_id','time'])\n",
    "test_click_0_df = pd.read_csv(path+'underexpose_test/underexpose_test_click-0.csv',names=['user_id','item_id','time'])\n",
    "\n",
    "##### test\n",
    "test_qtime_0_df = pd.read_csv(path+'underexpose_test/underexpose_test_click-0/underexpose_test_qtime-0.csv', names=['user_id','query_time'])\n",
    "test_click_0_df = pd.read_csv(path+'underexpose_test/underexpose_test_click-0/underexpose_test_click-0.csv', names=['user_id','item_id','time'])"
   ]
  },
  {
   "cell_type": "code",
   "execution_count": 10,
   "metadata": {},
   "outputs": [],
   "source": [
    "def plot_time_analysis(df,height=9000):\n",
    "    bin_num=300\n",
    "    time_bin=np.linspace(0.98370, 0.98420, num=bin_num+1)\n",
    "    bin_res = np.zeros((5,bin_num), dtype = np.float) \n",
    "    for i in range(0,bin_num):\n",
    "        time_start=time_bin[i]\n",
    "        time_end=time_bin[i+1]\n",
    "        tmp=df[df['time']>=time_start]\n",
    "        tmp=tmp[tmp['time']<time_end]\n",
    "        bin_res[0][i]=len(tmp)\n",
    "\n",
    "    plt.figure(figsize=(20,5))\n",
    "    plt.ylim(0,height)\n",
    "    plt.plot(time_bin[0:bin_num], bin_res[0], 'red',label = 'phase'+ str(3) + '条线段')\n",
    "    plt.show()\n"
   ]
  },
  {
   "cell_type": "code",
   "execution_count": 23,
   "metadata": {},
   "outputs": [
    {
     "data": {
      "text/html": [
       "<div>\n",
       "<style scoped>\n",
       "    .dataframe tbody tr th:only-of-type {\n",
       "        vertical-align: middle;\n",
       "    }\n",
       "\n",
       "    .dataframe tbody tr th {\n",
       "        vertical-align: top;\n",
       "    }\n",
       "\n",
       "    .dataframe thead th {\n",
       "        text-align: right;\n",
       "    }\n",
       "</style>\n",
       "<table border=\"1\" class=\"dataframe\">\n",
       "  <thead>\n",
       "    <tr style=\"text-align: right;\">\n",
       "      <th></th>\n",
       "      <th>user_id</th>\n",
       "      <th>item_id</th>\n",
       "      <th>time</th>\n",
       "    </tr>\n",
       "  </thead>\n",
       "  <tbody>\n",
       "    <tr>\n",
       "      <td>0</td>\n",
       "      <td>35</td>\n",
       "      <td>39593</td>\n",
       "      <td>0.983754</td>\n",
       "    </tr>\n",
       "    <tr>\n",
       "      <td>1</td>\n",
       "      <td>35</td>\n",
       "      <td>39810</td>\n",
       "      <td>0.983796</td>\n",
       "    </tr>\n",
       "    <tr>\n",
       "      <td>2</td>\n",
       "      <td>35</td>\n",
       "      <td>67161</td>\n",
       "      <td>0.983908</td>\n",
       "    </tr>\n",
       "    <tr>\n",
       "      <td>3</td>\n",
       "      <td>35</td>\n",
       "      <td>88501</td>\n",
       "      <td>0.983745</td>\n",
       "    </tr>\n",
       "    <tr>\n",
       "      <td>4</td>\n",
       "      <td>35</td>\n",
       "      <td>6164</td>\n",
       "      <td>0.983912</td>\n",
       "    </tr>\n",
       "    <tr>\n",
       "      <td>...</td>\n",
       "      <td>...</td>\n",
       "      <td>...</td>\n",
       "      <td>...</td>\n",
       "    </tr>\n",
       "    <tr>\n",
       "      <td>138674</td>\n",
       "      <td>35340</td>\n",
       "      <td>20891</td>\n",
       "      <td>0.984000</td>\n",
       "    </tr>\n",
       "    <tr>\n",
       "      <td>138675</td>\n",
       "      <td>35340</td>\n",
       "      <td>11657</td>\n",
       "      <td>0.983941</td>\n",
       "    </tr>\n",
       "    <tr>\n",
       "      <td>138676</td>\n",
       "      <td>35340</td>\n",
       "      <td>7187</td>\n",
       "      <td>0.983938</td>\n",
       "    </tr>\n",
       "    <tr>\n",
       "      <td>138677</td>\n",
       "      <td>35340</td>\n",
       "      <td>28936</td>\n",
       "      <td>0.983989</td>\n",
       "    </tr>\n",
       "    <tr>\n",
       "      <td>138678</td>\n",
       "      <td>35340</td>\n",
       "      <td>106799</td>\n",
       "      <td>0.983940</td>\n",
       "    </tr>\n",
       "  </tbody>\n",
       "</table>\n",
       "<p>138679 rows × 3 columns</p>\n",
       "</div>"
      ],
      "text/plain": [
       "        user_id  item_id      time\n",
       "0            35    39593  0.983754\n",
       "1            35    39810  0.983796\n",
       "2            35    67161  0.983908\n",
       "3            35    88501  0.983745\n",
       "4            35     6164  0.983912\n",
       "...         ...      ...       ...\n",
       "138674    35340    20891  0.984000\n",
       "138675    35340    11657  0.983941\n",
       "138676    35340     7187  0.983938\n",
       "138677    35340    28936  0.983989\n",
       "138678    35340   106799  0.983940\n",
       "\n",
       "[138679 rows x 3 columns]"
      ]
     },
     "execution_count": 23,
     "metadata": {},
     "output_type": "execute_result"
    }
   ],
   "source": [
    "user_havefea_id=train_user_df[train_user_df['user_gender']=='F']['user_id']\n",
    "user_havefea_id\n",
    "this_click=pd.merge(user_havefea_id,whole_click,on='user_id')\n",
    "this_click"
   ]
  },
  {
   "cell_type": "code",
   "execution_count": 25,
   "metadata": {},
   "outputs": [
    {
     "data": {
      "image/png": "[encoded data removed]",
      "text/plain": [
       "<Figure size 1440x360 with 1 Axes>"
      ]
     },
     "metadata": {
      "needs_background": "light"
     },
     "output_type": "display_data"
    }
   ],
   "source": [
    "this_click=this_click.drop_duplicates(keep='first',inplace=False)\n",
    "plot_time_analysis(this_click,height=3000)"
   ]
  },
  {
   "cell_type": "code",
   "execution_count": 13,
   "metadata": {},
   "outputs": [
    {
     "data": {
      "image/png": "[encoded data removed]",
      "text/plain": [
       "<Figure size 1440x360 with 1 Axes>"
      ]
     },
     "metadata": {
      "needs_background": "light"
     },
     "output_type": "display_data"
    }
   ],
   "source": [
    "plot_time_analysis(whole_click)"
   ]
  },
  {
   "cell_type": "code",
   "execution_count": 41,
   "metadata": {},
   "outputs": [
    {
     "data": {
      "text/html": [
       "<div>\n",
       "<style scoped>\n",
       "    .dataframe tbody tr th:only-of-type {\n",
       "        vertical-align: middle;\n",
       "    }\n",
       "\n",
       "    .dataframe tbody tr th {\n",
       "        vertical-align: top;\n",
       "    }\n",
       "\n",
       "    .dataframe thead th {\n",
       "        text-align: right;\n",
       "    }\n",
       "</style>\n",
       "<table border=\"1\" class=\"dataframe\">\n",
       "  <thead>\n",
       "    <tr style=\"text-align: right;\">\n",
       "      <th></th>\n",
       "      <th>user_id</th>\n",
       "      <th>item_id</th>\n",
       "      <th>time</th>\n",
       "    </tr>\n",
       "  </thead>\n",
       "  <tbody>\n",
       "    <tr>\n",
       "      <td>36965</td>\n",
       "      <td>29720</td>\n",
       "      <td>4</td>\n",
       "      <td>0.983982</td>\n",
       "    </tr>\n",
       "    <tr>\n",
       "      <td>146557</td>\n",
       "      <td>34045</td>\n",
       "      <td>4</td>\n",
       "      <td>0.983935</td>\n",
       "    </tr>\n",
       "    <tr>\n",
       "      <td>234697</td>\n",
       "      <td>8248</td>\n",
       "      <td>4</td>\n",
       "      <td>0.983975</td>\n",
       "    </tr>\n",
       "    <tr>\n",
       "      <td>234698</td>\n",
       "      <td>6181</td>\n",
       "      <td>4</td>\n",
       "      <td>0.983836</td>\n",
       "    </tr>\n",
       "  </tbody>\n",
       "</table>\n",
       "</div>"
      ],
      "text/plain": [
       "        user_id  item_id      time\n",
       "36965     29720        4  0.983982\n",
       "146557    34045        4  0.983935\n",
       "234697     8248        4  0.983975\n",
       "234698     6181        4  0.983836"
      ]
     },
     "execution_count": 41,
     "metadata": {},
     "output_type": "execute_result"
    }
   ],
   "source": [
    "whole_click[whole_click['item_id']==4]"
   ]
  },
  {
   "cell_type": "code",
   "execution_count": 82,
   "metadata": {},
   "outputs": [
    {
     "name": "stdout",
     "output_type": "stream",
     "text": [
      "       index  item_id  user_id  time\n",
      "0      33499    52766      528   528\n",
      "1      69431   111225      328   328\n",
      "2       2821     4340      308   308\n",
      "3      13707    21426      307   307\n",
      "4      13622    21279      283   283\n",
      "...      ...      ...      ...   ...\n",
      "71899  47021    74626        2     2\n",
      "71900  40276    63860        1     1\n",
      "71901  42414    67309        1     1\n",
      "71902  50299    79881        1     1\n",
      "71903  46604    73948        1     1\n",
      "\n",
      "[71904 rows x 4 columns]\n"
     ]
    }
   ],
   "source": [
    "temp=whole_click.groupby('item_id').count().reset_index()\n",
    "temp\n",
    "temp_sort=temp.sort_values(by='user_id', ascending=False).reset_index()\n",
    "#temp#=temp_sort['item_id','time']\n",
    "print(temp_sort)\n",
    "a=temp_sort['item_id']\n",
    "#temp['item_id']\n",
    "#temp.columns=['item_id','count']  "
   ]
  },
  {
   "cell_type": "code",
   "execution_count": 99,
   "metadata": {},
   "outputs": [
    {
     "data": {
      "image/png": "[encoded data removed]",
      "text/plain": [
       "<Figure size 1440x360 with 1 Axes>"
      ]
     },
     "metadata": {
      "needs_background": "light"
     },
     "output_type": "display_data"
    }
   ],
   "source": [
    "plot_click=whole_click[whole_click['item_id']==a[9]]\n",
    "plot_time_analysis(plot_click,height=100)"
   ]
  },
  {
   "cell_type": "code",
   "execution_count": 86,
   "metadata": {},
   "outputs": [
    {
     "data": {
      "image/png": "[encoded data removed]",
      "text/plain": [
       "<Figure size 1440x360 with 1 Axes>"
      ]
     },
     "metadata": {
      "needs_background": "light"
     },
     "output_type": "display_data"
    }
   ],
   "source": []
  },
  {
   "cell_type": "code",
   "execution_count": 111,
   "metadata": {},
   "outputs": [
    {
     "data": {
      "image/png": "[encoded data removed]",
      "text/plain": [
       "<Figure size 1440x360 with 1 Axes>"
      ]
     },
     "metadata": {
      "needs_background": "light"
     },
     "output_type": "display_data"
    }
   ],
   "source": [
    "test_qtime_0_df = pd.read_csv(path+'underexpose_test/underexpose_test_click-3/underexpose_test_qtime-3.csv', names=['user_id','query_time'])\n",
    "test_qtime_0_df.columns=['user_id','time']  \n",
    "plot_time_analysis(test_qtime_0_df,height=300)"
   ]
  },
  {
   "cell_type": "code",
   "execution_count": 112,
   "metadata": {},
   "outputs": [
    {
     "data": {
      "text/html": [
       "<div>\n",
       "<style scoped>\n",
       "    .dataframe tbody tr th:only-of-type {\n",
       "        vertical-align: middle;\n",
       "    }\n",
       "\n",
       "    .dataframe tbody tr th {\n",
       "        vertical-align: top;\n",
       "    }\n",
       "\n",
       "    .dataframe thead th {\n",
       "        text-align: right;\n",
       "    }\n",
       "</style>\n",
       "<table border=\"1\" class=\"dataframe\">\n",
       "  <thead>\n",
       "    <tr style=\"text-align: right;\">\n",
       "      <th></th>\n",
       "      <th>user_id</th>\n",
       "      <th>time</th>\n",
       "    </tr>\n",
       "  </thead>\n",
       "  <tbody>\n",
       "    <tr>\n",
       "      <td>0</td>\n",
       "      <td>3</td>\n",
       "      <td>0.984117</td>\n",
       "    </tr>\n",
       "    <tr>\n",
       "      <td>1</td>\n",
       "      <td>25</td>\n",
       "      <td>0.984093</td>\n",
       "    </tr>\n",
       "    <tr>\n",
       "      <td>2</td>\n",
       "      <td>36</td>\n",
       "      <td>0.984114</td>\n",
       "    </tr>\n",
       "    <tr>\n",
       "      <td>3</td>\n",
       "      <td>47</td>\n",
       "      <td>0.984121</td>\n",
       "    </tr>\n",
       "    <tr>\n",
       "      <td>4</td>\n",
       "      <td>80</td>\n",
       "      <td>0.984107</td>\n",
       "    </tr>\n",
       "    <tr>\n",
       "      <td>...</td>\n",
       "      <td>...</td>\n",
       "      <td>...</td>\n",
       "    </tr>\n",
       "    <tr>\n",
       "      <td>1670</td>\n",
       "      <td>35313</td>\n",
       "      <td>0.983985</td>\n",
       "    </tr>\n",
       "    <tr>\n",
       "      <td>1671</td>\n",
       "      <td>35335</td>\n",
       "      <td>0.984108</td>\n",
       "    </tr>\n",
       "    <tr>\n",
       "      <td>1672</td>\n",
       "      <td>35357</td>\n",
       "      <td>0.984019</td>\n",
       "    </tr>\n",
       "    <tr>\n",
       "      <td>1673</td>\n",
       "      <td>35379</td>\n",
       "      <td>0.984100</td>\n",
       "    </tr>\n",
       "    <tr>\n",
       "      <td>1674</td>\n",
       "      <td>35434</td>\n",
       "      <td>0.984121</td>\n",
       "    </tr>\n",
       "  </tbody>\n",
       "</table>\n",
       "<p>1675 rows × 2 columns</p>\n",
       "</div>"
      ],
      "text/plain": [
       "      user_id      time\n",
       "0           3  0.984117\n",
       "1          25  0.984093\n",
       "2          36  0.984114\n",
       "3          47  0.984121\n",
       "4          80  0.984107\n",
       "...       ...       ...\n",
       "1670    35313  0.983985\n",
       "1671    35335  0.984108\n",
       "1672    35357  0.984019\n",
       "1673    35379  0.984100\n",
       "1674    35434  0.984121\n",
       "\n",
       "[1675 rows x 2 columns]"
      ]
     },
     "execution_count": 112,
     "metadata": {},
     "output_type": "execute_result"
    }
   ],
   "source": [
    "test_qtime_0_df"
   ]
  },
  {
   "cell_type": "code",
   "execution_count": 117,
   "metadata": {},
   "outputs": [
    {
     "data": {
      "text/plain": [
       "0    0.984117\n",
       "Name: time, dtype: float64"
      ]
     },
     "execution_count": 117,
     "metadata": {},
     "output_type": "execute_result"
    }
   ],
   "source": [
    "test_qtime_0_df[test_qtime_0_df['user_id']==3]['time']"
   ]
  },
  {
   "cell_type": "code",
   "execution_count": 120,
   "metadata": {},
   "outputs": [],
   "source": [
    "temp_whole_click=whole_click[whole_click['time']>=0.984121]"
   ]
  },
  {
   "cell_type": "code",
   "execution_count": 118,
   "metadata": {},
   "outputs": [
    {
     "data": {
      "text/html": [
       "<div>\n",
       "<style scoped>\n",
       "    .dataframe tbody tr th:only-of-type {\n",
       "        vertical-align: middle;\n",
       "    }\n",
       "\n",
       "    .dataframe tbody tr th {\n",
       "        vertical-align: top;\n",
       "    }\n",
       "\n",
       "    .dataframe thead th {\n",
       "        text-align: right;\n",
       "    }\n",
       "</style>\n",
       "<table border=\"1\" class=\"dataframe\">\n",
       "  <thead>\n",
       "    <tr style=\"text-align: right;\">\n",
       "      <th></th>\n",
       "      <th>user_id</th>\n",
       "      <th>item_id</th>\n",
       "      <th>time</th>\n",
       "    </tr>\n",
       "  </thead>\n",
       "  <tbody>\n",
       "    <tr>\n",
       "      <td>0</td>\n",
       "      <td>4965</td>\n",
       "      <td>18</td>\n",
       "      <td>0.983763</td>\n",
       "    </tr>\n",
       "    <tr>\n",
       "      <td>1</td>\n",
       "      <td>20192</td>\n",
       "      <td>34</td>\n",
       "      <td>0.983772</td>\n",
       "    </tr>\n",
       "    <tr>\n",
       "      <td>2</td>\n",
       "      <td>30128</td>\n",
       "      <td>91</td>\n",
       "      <td>0.983780</td>\n",
       "    </tr>\n",
       "    <tr>\n",
       "      <td>3</td>\n",
       "      <td>29473</td>\n",
       "      <td>189</td>\n",
       "      <td>0.983930</td>\n",
       "    </tr>\n",
       "    <tr>\n",
       "      <td>4</td>\n",
       "      <td>10625</td>\n",
       "      <td>225</td>\n",
       "      <td>0.983925</td>\n",
       "    </tr>\n",
       "    <tr>\n",
       "      <td>...</td>\n",
       "      <td>...</td>\n",
       "      <td>...</td>\n",
       "      <td>...</td>\n",
       "    </tr>\n",
       "    <tr>\n",
       "      <td>24007</td>\n",
       "      <td>5327</td>\n",
       "      <td>115266</td>\n",
       "      <td>0.983954</td>\n",
       "    </tr>\n",
       "    <tr>\n",
       "      <td>24008</td>\n",
       "      <td>5591</td>\n",
       "      <td>115323</td>\n",
       "      <td>0.984094</td>\n",
       "    </tr>\n",
       "    <tr>\n",
       "      <td>24017</td>\n",
       "      <td>23433</td>\n",
       "      <td>116550</td>\n",
       "      <td>0.984105</td>\n",
       "    </tr>\n",
       "    <tr>\n",
       "      <td>24019</td>\n",
       "      <td>12565</td>\n",
       "      <td>117502</td>\n",
       "      <td>0.984052</td>\n",
       "    </tr>\n",
       "    <tr>\n",
       "      <td>24020</td>\n",
       "      <td>454</td>\n",
       "      <td>117507</td>\n",
       "      <td>0.984118</td>\n",
       "    </tr>\n",
       "  </tbody>\n",
       "</table>\n",
       "<p>602047 rows × 3 columns</p>\n",
       "</div>"
      ],
      "text/plain": [
       "       user_id  item_id      time\n",
       "0         4965       18  0.983763\n",
       "1        20192       34  0.983772\n",
       "2        30128       91  0.983780\n",
       "3        29473      189  0.983930\n",
       "4        10625      225  0.983925\n",
       "...        ...      ...       ...\n",
       "24007     5327   115266  0.983954\n",
       "24008     5591   115323  0.984094\n",
       "24017    23433   116550  0.984105\n",
       "24019    12565   117502  0.984052\n",
       "24020      454   117507  0.984118\n",
       "\n",
       "[602047 rows x 3 columns]"
      ]
     },
     "execution_count": 118,
     "metadata": {},
     "output_type": "execute_result"
    }
   ],
   "source": [
    "whole_click"
   ]
  },
  {
   "cell_type": "code",
   "execution_count": 121,
   "metadata": {},
   "outputs": [
    {
     "data": {
      "text/html": [
       "<div>\n",
       "<style scoped>\n",
       "    .dataframe tbody tr th:only-of-type {\n",
       "        vertical-align: middle;\n",
       "    }\n",
       "\n",
       "    .dataframe tbody tr th {\n",
       "        vertical-align: top;\n",
       "    }\n",
       "\n",
       "    .dataframe thead th {\n",
       "        text-align: right;\n",
       "    }\n",
       "</style>\n",
       "<table border=\"1\" class=\"dataframe\">\n",
       "  <thead>\n",
       "    <tr style=\"text-align: right;\">\n",
       "      <th></th>\n",
       "      <th>user_id</th>\n",
       "      <th>item_id</th>\n",
       "      <th>time</th>\n",
       "    </tr>\n",
       "  </thead>\n",
       "  <tbody>\n",
       "    <tr>\n",
       "      <td>24</td>\n",
       "      <td>4000</td>\n",
       "      <td>380</td>\n",
       "      <td>0.984121</td>\n",
       "    </tr>\n",
       "    <tr>\n",
       "      <td>319</td>\n",
       "      <td>21756</td>\n",
       "      <td>3826</td>\n",
       "      <td>0.984121</td>\n",
       "    </tr>\n",
       "    <tr>\n",
       "      <td>1049</td>\n",
       "      <td>10182</td>\n",
       "      <td>12845</td>\n",
       "      <td>0.984121</td>\n",
       "    </tr>\n",
       "    <tr>\n",
       "      <td>1390</td>\n",
       "      <td>16197</td>\n",
       "      <td>17862</td>\n",
       "      <td>0.984121</td>\n",
       "    </tr>\n",
       "    <tr>\n",
       "      <td>1641</td>\n",
       "      <td>13711</td>\n",
       "      <td>21918</td>\n",
       "      <td>0.984121</td>\n",
       "    </tr>\n",
       "    <tr>\n",
       "      <td>...</td>\n",
       "      <td>...</td>\n",
       "      <td>...</td>\n",
       "      <td>...</td>\n",
       "    </tr>\n",
       "    <tr>\n",
       "      <td>13747</td>\n",
       "      <td>6449</td>\n",
       "      <td>111318</td>\n",
       "      <td>0.984121</td>\n",
       "    </tr>\n",
       "    <tr>\n",
       "      <td>18565</td>\n",
       "      <td>33553</td>\n",
       "      <td>62357</td>\n",
       "      <td>0.984121</td>\n",
       "    </tr>\n",
       "    <tr>\n",
       "      <td>20249</td>\n",
       "      <td>26832</td>\n",
       "      <td>105357</td>\n",
       "      <td>0.984121</td>\n",
       "    </tr>\n",
       "    <tr>\n",
       "      <td>21515</td>\n",
       "      <td>28801</td>\n",
       "      <td>73431</td>\n",
       "      <td>0.984121</td>\n",
       "    </tr>\n",
       "    <tr>\n",
       "      <td>23434</td>\n",
       "      <td>20716</td>\n",
       "      <td>24461</td>\n",
       "      <td>0.984121</td>\n",
       "    </tr>\n",
       "  </tbody>\n",
       "</table>\n",
       "<p>458 rows × 3 columns</p>\n",
       "</div>"
      ],
      "text/plain": [
       "       user_id  item_id      time\n",
       "24        4000      380  0.984121\n",
       "319      21756     3826  0.984121\n",
       "1049     10182    12845  0.984121\n",
       "1390     16197    17862  0.984121\n",
       "1641     13711    21918  0.984121\n",
       "...        ...      ...       ...\n",
       "13747     6449   111318  0.984121\n",
       "18565    33553    62357  0.984121\n",
       "20249    26832   105357  0.984121\n",
       "21515    28801    73431  0.984121\n",
       "23434    20716    24461  0.984121\n",
       "\n",
       "[458 rows x 3 columns]"
      ]
     },
     "execution_count": 121,
     "metadata": {},
     "output_type": "execute_result"
    }
   ],
   "source": [
    "temp_whole_click"
   ]
  },
  {
   "cell_type": "code",
   "execution_count": null,
   "metadata": {},
   "outputs": [],
   "source": []
  }
 ],
 "metadata": {
  "kernelspec": {
   "display_name": "Python 3",
   "language": "python",
   "name": "python3"
  },
  "language_info": {
   "codemirror_mode": {
    "name": "ipython",
    "version": 3
   },
   "file_extension": ".py",
   "mimetype": "text/x-python",
   "name": "python",
   "nbconvert_exporter": "python",
   "pygments_lexer": "ipython3",
   "version": "3.7.4"
  }
 },
 "nbformat": 4,
 "nbformat_minor": 2
}
